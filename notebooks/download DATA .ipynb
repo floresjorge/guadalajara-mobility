{
 "cells": [
  {
   "cell_type": "markdown",
   "metadata": {},
   "source": [
    "<a id=\"1\"></a>\n",
    "<div class=\"alert alert-block alert-info\">\n",
    "    <h2 style=\"text-align: center; color: black;\">Impact of bike lines in Guadalajara</h2>\n",
    "</div>\n",
    "\n",
    "<a id=\"2\"></a>\n",
    "<div class=\"alert alert-block alert-success\">\n",
    "    <h3 style=\"text-align: left; color: black;\">Introduction</h3>\n",
    "    <p>\n",
    "        This project analyzes the Guadalajara's population within the 2020 federal census. Using pandas and numpy, I process the main csv file in order to get the principal archive to analyse. The dataset was gotten from https://www.inegi.org.mx/contenidos/programas/ccpv/2020/datosabiertos/ageb_manzana/ageb_mza_urbana_14_cpv2020_csv.zip\n",
    "    </p>\n",
    "</div>"
   ]
  },
  {
   "cell_type": "markdown",
   "metadata": {},
   "source": [
    "<a id=\"4\"></a>\n",
    "<div class=\"alert alert-block alert-info\">\n",
    "    <h2 style=\"text-align: center; color: black;\">Step 1: Import Libraries 🛠️</h2>\n",
    "</div>"
   ]
  },
  {
   "cell_type": "code",
   "execution_count": 1,
   "metadata": {},
   "outputs": [
    {
     "name": "stderr",
     "output_type": "stream",
     "text": [
      "/Users/edflour/Library/Python/3.9/lib/python/site-packages/urllib3/__init__.py:35: NotOpenSSLWarning: urllib3 v2 only supports OpenSSL 1.1.1+, currently the 'ssl' module is compiled with 'LibreSSL 2.8.3'. See: https://github.com/urllib3/urllib3/issues/3020\n",
      "  warnings.warn(\n"
     ]
    }
   ],
   "source": [
    "import pandas as pd\n",
    "import numpy as np\n",
    "import os\n",
    "import zipfile\n",
    "import requests\n"
   ]
  },
  {
   "cell_type": "markdown",
   "metadata": {},
   "source": [
    "<a id=\"4\"></a>\n",
    "<div class=\"alert alert-block alert-info\">\n",
    "    <h2 style=\"text-align: center; color: black;\">Step 2: Data getting and Loading 🛠️</h2>\n",
    "</div>"
   ]
  },
  {
   "cell_type": "markdown",
   "metadata": {},
   "source": []
  },
  {
   "cell_type": "code",
   "execution_count": 14,
   "metadata": {},
   "outputs": [
    {
     "name": "stdout",
     "output_type": "stream",
     "text": [
      "File downloaded: BIKEWAYS/Data/RAW/ageb_data.zip\n"
     ]
    }
   ],
   "source": [
    "# Step 1: Define the URL and the target path\n",
    "url = \"https://www.inegi.org.mx/contenidos/programas/ccpv/2020/datosabiertos/ageb_manzana/ageb_mza_urbana_14_cpv2020_csv.zip\"\n",
    "raw_dir = os.path.join(base_dir, \"Data\", \"RAW\")\n",
    "local_zip = os.path.join(raw_dir, \"ageb_data.zip\")\n",
    "\n",
    "\n",
    "# Step 2: Download the ZIP file\n",
    "response = requests.get(url, stream=True)\n",
    "\n",
    "if response.status_code == 200:\n",
    "    with open(local_zip, \"wb\") as f:\n",
    "        f.write(response.content)\n",
    "    print(f\"File downloaded: {local_zip}\")\n",
    "else:\n",
    "    print(f\"Failed to download file. Status code: {response.status_code}\")\n"
   ]
  },
  {
   "cell_type": "code",
   "execution_count": 17,
   "metadata": {},
   "outputs": [
    {
     "name": "stdout",
     "output_type": "stream",
     "text": [
      "Extracted files to: ageb_data\n"
     ]
    }
   ],
   "source": [
    "extracted_folder = \"ageb_data\"\n",
    "\n",
    "with zipfile.ZipFile(local_zip, \"r\") as zip_ref:\n",
    "    zip_ref.extractall(extracted_folder)\n",
    "    print(f\"Extracted files to: {extracted_folder}\")\n"
   ]
  },
  {
   "cell_type": "code",
   "execution_count": null,
   "metadata": {},
   "outputs": [],
   "source": []
  }
 ],
 "metadata": {
  "kernelspec": {
   "display_name": "Python 3",
   "language": "python",
   "name": "python3"
  },
  "language_info": {
   "codemirror_mode": {
    "name": "ipython",
    "version": 3
   },
   "file_extension": ".py",
   "mimetype": "text/x-python",
   "name": "python",
   "nbconvert_exporter": "python",
   "pygments_lexer": "ipython3",
   "version": "3.9.6"
  }
 },
 "nbformat": 4,
 "nbformat_minor": 2
}
